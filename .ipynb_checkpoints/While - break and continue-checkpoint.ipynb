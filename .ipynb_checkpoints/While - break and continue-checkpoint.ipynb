{
 "cells": [
  {
   "cell_type": "code",
   "execution_count": 1,
   "metadata": {},
   "outputs": [
    {
     "name": "stdout",
     "output_type": "stream",
     "text": [
      "1 attempt\n",
      "2 attempt\n",
      "3 attempt\n",
      "4 attempt\n",
      "5 attempt\n",
      "6 attempt\n",
      "7 attempt\n",
      "8 attempt\n",
      "9 attempt\n",
      "10 attempt\n"
     ]
    }
   ],
   "source": [
    "x = 0\n",
    "\n",
    "while x < 10:\n",
    "    x += 1\n",
    "    print x,'attempt'\n",
    "    "
   ]
  },
  {
   "cell_type": "code",
   "execution_count": 2,
   "metadata": {},
   "outputs": [
    {
     "name": "stdout",
     "output_type": "stream",
     "text": [
      "1\n",
      "2\n",
      "3\n",
      "4\n",
      "5\n",
      "All done\n"
     ]
    }
   ],
   "source": [
    "x = 0\n",
    "\n",
    "while x < 5:\n",
    "    x += 1\n",
    "    print x\n",
    "else:\n",
    "    print 'All done'"
   ]
  },
  {
   "cell_type": "code",
   "execution_count": 3,
   "metadata": {},
   "outputs": [
    {
     "name": "stdout",
     "output_type": "stream",
     "text": [
      "continue...\n",
      "continue...\n",
      "continue...\n",
      "continue...\n",
      "break: x == 5\n"
     ]
    }
   ],
   "source": [
    "# break and continue and pass\n",
    "\n",
    "x = 0\n",
    "\n",
    "while x<10:\n",
    "    x += 1\n",
    "    if x == 5:\n",
    "        print 'break: x == 5'\n",
    "        break\n",
    "    else:\n",
    "        print 'continue...'\n",
    "        continue\n",
    "        "
   ]
  },
  {
   "cell_type": "code",
   "execution_count": null,
   "metadata": {
    "collapsed": true
   },
   "outputs": [],
   "source": []
  }
 ],
 "metadata": {
  "kernelspec": {
   "display_name": "Python 2",
   "language": "python",
   "name": "python2"
  },
  "language_info": {
   "codemirror_mode": {
    "name": "ipython",
    "version": 2
   },
   "file_extension": ".py",
   "mimetype": "text/x-python",
   "name": "python",
   "nbconvert_exporter": "python",
   "pygments_lexer": "ipython2",
   "version": "2.7.14"
  }
 },
 "nbformat": 4,
 "nbformat_minor": 2
}
