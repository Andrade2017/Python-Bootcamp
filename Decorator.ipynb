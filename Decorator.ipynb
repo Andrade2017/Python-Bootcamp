{
 "cells": [
  {
   "cell_type": "code",
   "execution_count": 4,
   "metadata": {
    "collapsed": true
   },
   "outputs": [],
   "source": [
    "s = 'Global variable'\n",
    "\n",
    "def func():\n",
    "    x = 'Local variable'\n",
    "    return 1"
   ]
  },
  {
   "cell_type": "code",
   "execution_count": 5,
   "metadata": {},
   "outputs": [
    {
     "data": {
      "text/plain": [
       "1"
      ]
     },
     "execution_count": 5,
     "metadata": {},
     "output_type": "execute_result"
    }
   ],
   "source": [
    "func()"
   ]
  },
  {
   "cell_type": "code",
   "execution_count": 9,
   "metadata": {},
   "outputs": [
    {
     "data": {
      "text/plain": [
       "{'In': ['',\n",
       "  u\"s = 'Global variable'\\n\\ndef func():\\n    return 1\",\n",
       "  u'func()',\n",
       "  u'local()',\n",
       "  u\"s = 'Global variable'\\n\\ndef func():\\n    x = 'Local variable'\\n    return 1\",\n",
       "  u'func()',\n",
       "  u'local()',\n",
       "  u'print local()',\n",
       "  u'global()',\n",
       "  u'globals()'],\n",
       " 'Out': {2: 1, 5: 1},\n",
       " '_': 1,\n",
       " '_2': 1,\n",
       " '_5': 1,\n",
       " '__': 1,\n",
       " '___': '',\n",
       " '__builtin__': <module '__builtin__' (built-in)>,\n",
       " '__builtins__': <module '__builtin__' (built-in)>,\n",
       " '__doc__': 'Automatically created module for IPython interactive environment',\n",
       " '__name__': '__main__',\n",
       " '_dh': [u'/Users/thiagoblandrade/Desktop/Courses/Python Bootcamp/My Jupyter Files'],\n",
       " '_i': u'global()',\n",
       " '_i1': u\"s = 'Global variable'\\n\\ndef func():\\n    return 1\",\n",
       " '_i2': u'func()',\n",
       " '_i3': u'local()',\n",
       " '_i4': u\"s = 'Global variable'\\n\\ndef func():\\n    x = 'Local variable'\\n    return 1\",\n",
       " '_i5': u'func()',\n",
       " '_i6': u'local()',\n",
       " '_i7': u'print local()',\n",
       " '_i8': u'global()',\n",
       " '_i9': u'globals()',\n",
       " '_ih': ['',\n",
       "  u\"s = 'Global variable'\\n\\ndef func():\\n    return 1\",\n",
       "  u'func()',\n",
       "  u'local()',\n",
       "  u\"s = 'Global variable'\\n\\ndef func():\\n    x = 'Local variable'\\n    return 1\",\n",
       "  u'func()',\n",
       "  u'local()',\n",
       "  u'print local()',\n",
       "  u'global()',\n",
       "  u'globals()'],\n",
       " '_ii': u'print local()',\n",
       " '_iii': u'local()',\n",
       " '_oh': {2: 1, 5: 1},\n",
       " '_sh': <module 'IPython.core.shadowns' from '/Users/thiagoblandrade/anaconda2/lib/python2.7/site-packages/IPython/core/shadowns.pyc'>,\n",
       " 'exit': <IPython.core.autocall.ZMQExitAutocall at 0x1052711d0>,\n",
       " 'func': <function __main__.func>,\n",
       " 'get_ipython': <bound method ZMQInteractiveShell.get_ipython of <ipykernel.zmqshell.ZMQInteractiveShell object at 0x1050b0a90>>,\n",
       " 'quit': <IPython.core.autocall.ZMQExitAutocall at 0x1052711d0>,\n",
       " 's': 'Global variable'}"
      ]
     },
     "execution_count": 9,
     "metadata": {},
     "output_type": "execute_result"
    }
   ],
   "source": [
    "globals()"
   ]
  },
  {
   "cell_type": "code",
   "execution_count": 10,
   "metadata": {},
   "outputs": [
    {
     "data": {
      "text/plain": [
       "{'In': ['',\n",
       "  u\"s = 'Global variable'\\n\\ndef func():\\n    return 1\",\n",
       "  u'func()',\n",
       "  u'local()',\n",
       "  u\"s = 'Global variable'\\n\\ndef func():\\n    x = 'Local variable'\\n    return 1\",\n",
       "  u'func()',\n",
       "  u'local()',\n",
       "  u'print local()',\n",
       "  u'global()',\n",
       "  u'globals()',\n",
       "  u'locals()'],\n",
       " 'Out': {2: 1, 5: 1, 9: {...}},\n",
       " '_': {...},\n",
       " '_2': 1,\n",
       " '_5': 1,\n",
       " '_9': {...},\n",
       " '__': 1,\n",
       " '___': 1,\n",
       " '__builtin__': <module '__builtin__' (built-in)>,\n",
       " '__builtins__': <module '__builtin__' (built-in)>,\n",
       " '__doc__': 'Automatically created module for IPython interactive environment',\n",
       " '__name__': '__main__',\n",
       " '_dh': [u'/Users/thiagoblandrade/Desktop/Courses/Python Bootcamp/My Jupyter Files'],\n",
       " '_i': u'globals()',\n",
       " '_i1': u\"s = 'Global variable'\\n\\ndef func():\\n    return 1\",\n",
       " '_i10': u'locals()',\n",
       " '_i2': u'func()',\n",
       " '_i3': u'local()',\n",
       " '_i4': u\"s = 'Global variable'\\n\\ndef func():\\n    x = 'Local variable'\\n    return 1\",\n",
       " '_i5': u'func()',\n",
       " '_i6': u'local()',\n",
       " '_i7': u'print local()',\n",
       " '_i8': u'global()',\n",
       " '_i9': u'globals()',\n",
       " '_ih': ['',\n",
       "  u\"s = 'Global variable'\\n\\ndef func():\\n    return 1\",\n",
       "  u'func()',\n",
       "  u'local()',\n",
       "  u\"s = 'Global variable'\\n\\ndef func():\\n    x = 'Local variable'\\n    return 1\",\n",
       "  u'func()',\n",
       "  u'local()',\n",
       "  u'print local()',\n",
       "  u'global()',\n",
       "  u'globals()',\n",
       "  u'locals()'],\n",
       " '_ii': u'global()',\n",
       " '_iii': u'print local()',\n",
       " '_oh': {2: 1, 5: 1, 9: {...}},\n",
       " '_sh': <module 'IPython.core.shadowns' from '/Users/thiagoblandrade/anaconda2/lib/python2.7/site-packages/IPython/core/shadowns.pyc'>,\n",
       " 'exit': <IPython.core.autocall.ZMQExitAutocall at 0x1052711d0>,\n",
       " 'func': <function __main__.func>,\n",
       " 'get_ipython': <bound method ZMQInteractiveShell.get_ipython of <ipykernel.zmqshell.ZMQInteractiveShell object at 0x1050b0a90>>,\n",
       " 'quit': <IPython.core.autocall.ZMQExitAutocall at 0x1052711d0>,\n",
       " 's': 'Global variable'}"
      ]
     },
     "execution_count": 10,
     "metadata": {},
     "output_type": "execute_result"
    }
   ],
   "source": [
    "locals()"
   ]
  },
  {
   "cell_type": "code",
   "execution_count": 11,
   "metadata": {},
   "outputs": [
    {
     "data": {
      "text/plain": [
       "['_dh',\n",
       " '__',\n",
       " '__builtin__',\n",
       " '_i2',\n",
       " 'quit',\n",
       " '_i11',\n",
       " '_i9',\n",
       " '_i8',\n",
       " '_i7',\n",
       " '_i6',\n",
       " '_i5',\n",
       " '_i4',\n",
       " '_i3',\n",
       " '_iii',\n",
       " '_i1',\n",
       " 'exit',\n",
       " 'get_ipython',\n",
       " '_i',\n",
       " '__doc__',\n",
       " '__builtins__',\n",
       " '_ih',\n",
       " '_10',\n",
       " 'func',\n",
       " '__name__',\n",
       " '___',\n",
       " '_',\n",
       " '_sh',\n",
       " '_9',\n",
       " '_5',\n",
       " '_2',\n",
       " 's',\n",
       " '_i10',\n",
       " '_ii',\n",
       " 'In',\n",
       " '_oh',\n",
       " 'Out']"
      ]
     },
     "execution_count": 11,
     "metadata": {},
     "output_type": "execute_result"
    }
   ],
   "source": [
    "globals().keys()"
   ]
  },
  {
   "cell_type": "code",
   "execution_count": 13,
   "metadata": {},
   "outputs": [
    {
     "data": {
      "text/plain": [
       "'Global variable'"
      ]
     },
     "execution_count": 13,
     "metadata": {},
     "output_type": "execute_result"
    }
   ],
   "source": [
    "globals()['s']"
   ]
  },
  {
   "cell_type": "code",
   "execution_count": 16,
   "metadata": {
    "collapsed": true
   },
   "outputs": [],
   "source": [
    "def hello(name='Thiago'):\n",
    "    return 'Hello ' + name"
   ]
  },
  {
   "cell_type": "code",
   "execution_count": 17,
   "metadata": {},
   "outputs": [
    {
     "data": {
      "text/plain": [
       "'Hello Thiago'"
      ]
     },
     "execution_count": 17,
     "metadata": {},
     "output_type": "execute_result"
    }
   ],
   "source": [
    "hello()"
   ]
  },
  {
   "cell_type": "code",
   "execution_count": 18,
   "metadata": {
    "collapsed": true
   },
   "outputs": [],
   "source": [
    "greet = hello"
   ]
  },
  {
   "cell_type": "code",
   "execution_count": 19,
   "metadata": {},
   "outputs": [
    {
     "data": {
      "text/plain": [
       "'Hello Thiago'"
      ]
     },
     "execution_count": 19,
     "metadata": {},
     "output_type": "execute_result"
    }
   ],
   "source": [
    "greet()"
   ]
  },
  {
   "cell_type": "code",
   "execution_count": 20,
   "metadata": {
    "collapsed": true
   },
   "outputs": [],
   "source": [
    "del hello"
   ]
  },
  {
   "cell_type": "code",
   "execution_count": 21,
   "metadata": {},
   "outputs": [
    {
     "ename": "NameError",
     "evalue": "name 'hello' is not defined",
     "output_type": "error",
     "traceback": [
      "\u001b[0;31m---------------------------------------------------------------------------\u001b[0m",
      "\u001b[0;31mNameError\u001b[0m                                 Traceback (most recent call last)",
      "\u001b[0;32m<ipython-input-21-a803225a2f97>\u001b[0m in \u001b[0;36m<module>\u001b[0;34m()\u001b[0m\n\u001b[0;32m----> 1\u001b[0;31m \u001b[0mhello\u001b[0m\u001b[0;34m(\u001b[0m\u001b[0;34m)\u001b[0m\u001b[0;34m\u001b[0m\u001b[0m\n\u001b[0m",
      "\u001b[0;31mNameError\u001b[0m: name 'hello' is not defined"
     ]
    }
   ],
   "source": [
    "hello()"
   ]
  },
  {
   "cell_type": "code",
   "execution_count": 22,
   "metadata": {},
   "outputs": [
    {
     "data": {
      "text/plain": [
       "'Hello Thiago'"
      ]
     },
     "execution_count": 22,
     "metadata": {},
     "output_type": "execute_result"
    }
   ],
   "source": [
    "greet()"
   ]
  },
  {
   "cell_type": "code",
   "execution_count": 25,
   "metadata": {
    "collapsed": true
   },
   "outputs": [],
   "source": [
    "def hello():\n",
    "    print 'Hello function'\n",
    "\n",
    "    def greet():\n",
    "        return '\\t Greet function'\n",
    "    \n",
    "    def welcome():\n",
    "        return '\\t Welcome function'\n",
    "    \n",
    "    print greet()\n",
    "    print welcome()\n",
    "    print 'Now we are back to Hello function'"
   ]
  },
  {
   "cell_type": "code",
   "execution_count": 26,
   "metadata": {},
   "outputs": [
    {
     "name": "stdout",
     "output_type": "stream",
     "text": [
      "Hello function\n",
      "\t Greet function\n",
      "\t Welcome function\n",
      "Now we are back to Hello function\n"
     ]
    }
   ],
   "source": [
    "hello()"
   ]
  },
  {
   "cell_type": "code",
   "execution_count": 28,
   "metadata": {},
   "outputs": [
    {
     "ename": "NameError",
     "evalue": "name 'welcome' is not defined",
     "output_type": "error",
     "traceback": [
      "\u001b[0;31m---------------------------------------------------------------------------\u001b[0m",
      "\u001b[0;31mNameError\u001b[0m                                 Traceback (most recent call last)",
      "\u001b[0;32m<ipython-input-28-efaf77b113fd>\u001b[0m in \u001b[0;36m<module>\u001b[0;34m()\u001b[0m\n\u001b[0;32m----> 1\u001b[0;31m \u001b[0mwelcome\u001b[0m\u001b[0;34m(\u001b[0m\u001b[0;34m)\u001b[0m\u001b[0;34m\u001b[0m\u001b[0m\n\u001b[0m",
      "\u001b[0;31mNameError\u001b[0m: name 'welcome' is not defined"
     ]
    }
   ],
   "source": [
    "welcome()"
   ]
  },
  {
   "cell_type": "code",
   "execution_count": 29,
   "metadata": {
    "collapsed": true
   },
   "outputs": [],
   "source": [
    "def hello(name):\n",
    "    print 'Hello function'\n",
    "\n",
    "    def greet():\n",
    "        return '\\t Greet function'\n",
    "    \n",
    "    def welcome():\n",
    "        return '\\t Welcome function'\n",
    "    \n",
    "    if name == 'Jose':\n",
    "        return welcome()\n",
    "    else:\n",
    "        return greet()"
   ]
  },
  {
   "cell_type": "code",
   "execution_count": 30,
   "metadata": {},
   "outputs": [
    {
     "name": "stdout",
     "output_type": "stream",
     "text": [
      "Hello function\n"
     ]
    },
    {
     "data": {
      "text/plain": [
       "'\\t Greet function'"
      ]
     },
     "execution_count": 30,
     "metadata": {},
     "output_type": "execute_result"
    }
   ],
   "source": [
    "hello('Thiago')"
   ]
  },
  {
   "cell_type": "code",
   "execution_count": 31,
   "metadata": {},
   "outputs": [
    {
     "name": "stdout",
     "output_type": "stream",
     "text": [
      "Hello function\n"
     ]
    },
    {
     "data": {
      "text/plain": [
       "'\\t Welcome function'"
      ]
     },
     "execution_count": 31,
     "metadata": {},
     "output_type": "execute_result"
    }
   ],
   "source": [
    "hello('Jose')"
   ]
  },
  {
   "cell_type": "code",
   "execution_count": 32,
   "metadata": {
    "collapsed": true
   },
   "outputs": [],
   "source": [
    "# Function as an argmument"
   ]
  },
  {
   "cell_type": "code",
   "execution_count": 33,
   "metadata": {
    "collapsed": true
   },
   "outputs": [],
   "source": [
    "def hello():\n",
    "    return 'Hello'"
   ]
  },
  {
   "cell_type": "code",
   "execution_count": 39,
   "metadata": {
    "collapsed": true
   },
   "outputs": [],
   "source": [
    "def other(hello):\n",
    "    print 'Other'\n",
    "    return hello()\n",
    "    "
   ]
  },
  {
   "cell_type": "code",
   "execution_count": 40,
   "metadata": {},
   "outputs": [
    {
     "name": "stdout",
     "output_type": "stream",
     "text": [
      "Other\n"
     ]
    },
    {
     "data": {
      "text/plain": [
       "'Hello'"
      ]
     },
     "execution_count": 40,
     "metadata": {},
     "output_type": "execute_result"
    }
   ],
   "source": [
    "other(hello)"
   ]
  },
  {
   "cell_type": "markdown",
   "metadata": {},
   "source": [
    "Creating a Decorator"
   ]
  },
  {
   "cell_type": "code",
   "execution_count": 41,
   "metadata": {
    "collapsed": true
   },
   "outputs": [],
   "source": [
    "def new_decorator(func):\n",
    "    \n",
    "    def wrap_func():\n",
    "        print 'Before func()'\n",
    "        func()\n",
    "        print 'After func()'\n",
    "    return wrap_func()\n",
    "    "
   ]
  },
  {
   "cell_type": "code",
   "execution_count": 42,
   "metadata": {
    "collapsed": true
   },
   "outputs": [],
   "source": [
    "def func_needs_decorator():\n",
    "    print 'Need decorator'"
   ]
  },
  {
   "cell_type": "code",
   "execution_count": 44,
   "metadata": {},
   "outputs": [
    {
     "name": "stdout",
     "output_type": "stream",
     "text": [
      "Before func()\n",
      "Need decorator\n",
      "After func()\n"
     ]
    }
   ],
   "source": [
    "@new_decorator\n",
    "def func_needs_decorator():\n",
    "    print 'Need decorator'\n"
   ]
  },
  {
   "cell_type": "code",
   "execution_count": null,
   "metadata": {
    "collapsed": true
   },
   "outputs": [],
   "source": []
  },
  {
   "cell_type": "code",
   "execution_count": null,
   "metadata": {},
   "outputs": [],
   "source": []
  },
  {
   "cell_type": "code",
   "execution_count": null,
   "metadata": {
    "collapsed": true
   },
   "outputs": [],
   "source": []
  }
 ],
 "metadata": {
  "kernelspec": {
   "display_name": "Python 2",
   "language": "python",
   "name": "python2"
  },
  "language_info": {
   "codemirror_mode": {
    "name": "ipython",
    "version": 2
   },
   "file_extension": ".py",
   "mimetype": "text/x-python",
   "name": "python",
   "nbconvert_exporter": "python",
   "pygments_lexer": "ipython2",
   "version": "2.7.14"
  }
 },
 "nbformat": 4,
 "nbformat_minor": 2
}
